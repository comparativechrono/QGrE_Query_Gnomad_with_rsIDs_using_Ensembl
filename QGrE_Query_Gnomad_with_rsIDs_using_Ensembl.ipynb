{
  "nbformat": 4,
  "nbformat_minor": 0,
  "metadata": {
    "colab": {
      "provenance": [],
      "authorship_tag": "ABX9TyMhZrqPWQdLyULsoMbd2w4p",
      "include_colab_link": true
    },
    "kernelspec": {
      "name": "python3",
      "display_name": "Python 3"
    },
    "language_info": {
      "name": "python"
    }
  },
  "cells": [
    {
      "cell_type": "markdown",
      "metadata": {
        "id": "view-in-github",
        "colab_type": "text"
      },
      "source": [
        "<a href=\"https://colab.research.google.com/github/comparativechrono/QGrE_Query_Gnomad_with_rsIDs_using_Ensembl/blob/main/QGrE_Query_Gnomad_with_rsIDs_using_Ensembl.ipynb\" target=\"_parent\"><img src=\"https://colab.research.google.com/assets/colab-badge.svg\" alt=\"Open In Colab\"/></a>"
      ]
    },
    {
      "cell_type": "markdown",
      "source": [
        "To run this code you will require an input file called rsID.txt that contains your input rsIDs with one rsID per line. This script pulls out the allele frequencies for Gnomad Genomes for each allele associated with the rsIDs, and concatenates them in table format.\n"
      ],
      "metadata": {
        "id": "ARIcaGXv9ImK"
      }
    },
    {
      "cell_type": "code",
      "execution_count": 1,
      "metadata": {
        "colab": {
          "base_uri": "https://localhost:8080/"
        },
        "id": "lW4Dlvkj9H2h",
        "outputId": "4e017eef-0ed1-4f36-ddee-06f39adcea78"
      },
      "outputs": [
        {
          "output_type": "stream",
          "name": "stdout",
          "text": [
            "     rsID   Population Allele  Frequency Allele Count\n",
            "0   rs334  gnomADg:eas      T   1.000000         5198\n",
            "1   rs334  gnomADg:afr      T   0.956600        39633\n",
            "2   rs334  gnomADg:afr      A   0.043420         1799\n",
            "3   rs334  gnomADg:mid      T   1.000000          316\n",
            "4   rs334  gnomADg:ami      T   1.000000          912\n",
            "5   rs334  gnomADg:oth      A   0.007177           15\n",
            "6   rs334  gnomADg:oth      T   0.992800         2075\n",
            "7   rs334  gnomADg:amr      A   0.005890           90\n",
            "8   rs334  gnomADg:amr      T   0.994100        15190\n",
            "9   rs334  gnomADg:asj      T   1.000000         3470\n",
            "10  rs334  gnomADg:nfe      A   0.000162           11\n",
            "11  rs334  gnomADg:nfe      T   0.999800        68027\n",
            "12  rs334  gnomADg:ALL      A   0.012660         1926\n",
            "13  rs334  gnomADg:ALL      T   0.987300       150250\n",
            "14  rs334  gnomADg:sas      T   0.997700         4819\n",
            "15  rs334  gnomADg:sas      A   0.002277           11\n",
            "16  rs334  gnomADg:fin      T   1.000000        10610\n"
          ]
        }
      ],
      "source": [
        "import requests\n",
        "import pandas as pd\n",
        "\n",
        "def get_gnomad_frequencies(rsid):\n",
        "    server = \"https://rest.ensembl.org\"\n",
        "    ext = f\"/variation/human/{rsid}?pops=1\"\n",
        "\n",
        "    r = requests.get(server+ext, headers={ \"Content-Type\" : \"application/json\"})\n",
        "\n",
        "    if not r.ok:\n",
        "        r.raise_for_status()\n",
        "        return None\n",
        "\n",
        "    data = r.json()\n",
        "    gnomad_frequencies = [pop for pop in data.get('populations', []) if pop['population'].startswith('gnomADg')]\n",
        "    return gnomad_frequencies\n",
        "\n",
        "def main():\n",
        "    rsids = []\n",
        "    with open('rsID.txt', 'r') as file:\n",
        "        rsids = file.read().splitlines()\n",
        "\n",
        "    # Initialize an empty DataFrame\n",
        "    df = pd.DataFrame(columns=['rsID', 'Population', 'Allele', 'Frequency', 'Allele Count'])\n",
        "    rows = []\n",
        "\n",
        "    for rsid in rsids:\n",
        "        frequencies = get_gnomad_frequencies(rsid)\n",
        "        if frequencies:\n",
        "            for freq in frequencies:\n",
        "                rows.append({'rsID': rsid,\n",
        "                            'Population': freq['population'],\n",
        "                            'Allele': freq['allele'],\n",
        "                            'Frequency': freq['frequency'],\n",
        "                            'Allele Count': freq['allele_count']})\n",
        "        else:\n",
        "            rows.append({'rsID': rsid, 'Population': 'No GnomAD data available'})\n",
        "\n",
        "    df = pd.concat([df, pd.DataFrame(rows)], ignore_index=True)\n",
        "\n",
        "    # Save DataFrame to a CSV file\n",
        "    df.to_csv('gnomad_frequencies.csv', index=False)\n",
        "\n",
        "    return df\n",
        "\n",
        "# Run the main function\n",
        "df = main()\n",
        "print(df)\n"
      ]
    }
  ]
}